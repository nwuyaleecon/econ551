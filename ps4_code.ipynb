{
 "cells": [
  {
   "cell_type": "code",
   "execution_count": 1,
   "id": "missing-reality",
   "metadata": {},
   "outputs": [],
   "source": [
    "import pandas as pd\n",
    "from statsmodels.regression.linear_model import OLS\n",
    "import numpy as np\n",
    "import scipy.stats as st"
   ]
  },
  {
   "cell_type": "code",
   "execution_count": 2,
   "id": "bronze-python",
   "metadata": {},
   "outputs": [],
   "source": [
    "DATASET_URL = \"https://www.ssc.wisc.edu/~bhansen/econometrics/cps09mar.txt\"\n",
    "DATASET_COLUMNS = [\"age\",\"female\",\"hisp\",\"education\",\"earnings\",\"hours\",\"week\",\"union\",\"uncov\",\"region\",\"race\",\"marital\"]"
   ]
  },
  {
   "cell_type": "code",
   "execution_count": 3,
   "id": "affected-covering",
   "metadata": {},
   "outputs": [],
   "source": [
    "df = pd.read_csv(DATASET_URL, sep=\"\\t\", names=DATASET_COLUMNS, index_col=False)"
   ]
  },
  {
   "cell_type": "code",
   "execution_count": 4,
   "id": "usual-twenty",
   "metadata": {},
   "outputs": [
    {
     "data": {
      "text/html": [
       "<div>\n",
       "<style scoped>\n",
       "    .dataframe tbody tr th:only-of-type {\n",
       "        vertical-align: middle;\n",
       "    }\n",
       "\n",
       "    .dataframe tbody tr th {\n",
       "        vertical-align: top;\n",
       "    }\n",
       "\n",
       "    .dataframe thead th {\n",
       "        text-align: right;\n",
       "    }\n",
       "</style>\n",
       "<table border=\"1\" class=\"dataframe\">\n",
       "  <thead>\n",
       "    <tr style=\"text-align: right;\">\n",
       "      <th></th>\n",
       "      <th>age</th>\n",
       "      <th>female</th>\n",
       "      <th>hisp</th>\n",
       "      <th>education</th>\n",
       "      <th>earnings</th>\n",
       "      <th>hours</th>\n",
       "      <th>week</th>\n",
       "      <th>union</th>\n",
       "      <th>uncov</th>\n",
       "      <th>region</th>\n",
       "      <th>race</th>\n",
       "      <th>marital</th>\n",
       "    </tr>\n",
       "  </thead>\n",
       "  <tbody>\n",
       "    <tr>\n",
       "      <th>0</th>\n",
       "      <td>52</td>\n",
       "      <td>0</td>\n",
       "      <td>0</td>\n",
       "      <td>12</td>\n",
       "      <td>146000</td>\n",
       "      <td>45</td>\n",
       "      <td>52</td>\n",
       "      <td>0</td>\n",
       "      <td>0</td>\n",
       "      <td>1</td>\n",
       "      <td>1</td>\n",
       "      <td>1</td>\n",
       "    </tr>\n",
       "    <tr>\n",
       "      <th>1</th>\n",
       "      <td>38</td>\n",
       "      <td>0</td>\n",
       "      <td>0</td>\n",
       "      <td>18</td>\n",
       "      <td>50000</td>\n",
       "      <td>45</td>\n",
       "      <td>52</td>\n",
       "      <td>0</td>\n",
       "      <td>0</td>\n",
       "      <td>1</td>\n",
       "      <td>1</td>\n",
       "      <td>1</td>\n",
       "    </tr>\n",
       "    <tr>\n",
       "      <th>2</th>\n",
       "      <td>38</td>\n",
       "      <td>0</td>\n",
       "      <td>0</td>\n",
       "      <td>14</td>\n",
       "      <td>32000</td>\n",
       "      <td>40</td>\n",
       "      <td>51</td>\n",
       "      <td>0</td>\n",
       "      <td>0</td>\n",
       "      <td>1</td>\n",
       "      <td>1</td>\n",
       "      <td>1</td>\n",
       "    </tr>\n",
       "    <tr>\n",
       "      <th>3</th>\n",
       "      <td>41</td>\n",
       "      <td>1</td>\n",
       "      <td>0</td>\n",
       "      <td>13</td>\n",
       "      <td>47000</td>\n",
       "      <td>40</td>\n",
       "      <td>52</td>\n",
       "      <td>0</td>\n",
       "      <td>0</td>\n",
       "      <td>1</td>\n",
       "      <td>1</td>\n",
       "      <td>1</td>\n",
       "    </tr>\n",
       "    <tr>\n",
       "      <th>4</th>\n",
       "      <td>42</td>\n",
       "      <td>0</td>\n",
       "      <td>0</td>\n",
       "      <td>13</td>\n",
       "      <td>161525</td>\n",
       "      <td>50</td>\n",
       "      <td>52</td>\n",
       "      <td>1</td>\n",
       "      <td>0</td>\n",
       "      <td>1</td>\n",
       "      <td>1</td>\n",
       "      <td>1</td>\n",
       "    </tr>\n",
       "    <tr>\n",
       "      <th>...</th>\n",
       "      <td>...</td>\n",
       "      <td>...</td>\n",
       "      <td>...</td>\n",
       "      <td>...</td>\n",
       "      <td>...</td>\n",
       "      <td>...</td>\n",
       "      <td>...</td>\n",
       "      <td>...</td>\n",
       "      <td>...</td>\n",
       "      <td>...</td>\n",
       "      <td>...</td>\n",
       "      <td>...</td>\n",
       "    </tr>\n",
       "    <tr>\n",
       "      <th>50737</th>\n",
       "      <td>58</td>\n",
       "      <td>1</td>\n",
       "      <td>0</td>\n",
       "      <td>11</td>\n",
       "      <td>30000</td>\n",
       "      <td>40</td>\n",
       "      <td>52</td>\n",
       "      <td>0</td>\n",
       "      <td>0</td>\n",
       "      <td>4</td>\n",
       "      <td>4</td>\n",
       "      <td>6</td>\n",
       "    </tr>\n",
       "    <tr>\n",
       "      <th>50738</th>\n",
       "      <td>62</td>\n",
       "      <td>1</td>\n",
       "      <td>0</td>\n",
       "      <td>16</td>\n",
       "      <td>35000</td>\n",
       "      <td>40</td>\n",
       "      <td>52</td>\n",
       "      <td>0</td>\n",
       "      <td>0</td>\n",
       "      <td>4</td>\n",
       "      <td>4</td>\n",
       "      <td>6</td>\n",
       "    </tr>\n",
       "    <tr>\n",
       "      <th>50739</th>\n",
       "      <td>58</td>\n",
       "      <td>0</td>\n",
       "      <td>0</td>\n",
       "      <td>12</td>\n",
       "      <td>75000</td>\n",
       "      <td>50</td>\n",
       "      <td>52</td>\n",
       "      <td>0</td>\n",
       "      <td>0</td>\n",
       "      <td>4</td>\n",
       "      <td>1</td>\n",
       "      <td>1</td>\n",
       "    </tr>\n",
       "    <tr>\n",
       "      <th>50740</th>\n",
       "      <td>45</td>\n",
       "      <td>1</td>\n",
       "      <td>0</td>\n",
       "      <td>12</td>\n",
       "      <td>40000</td>\n",
       "      <td>60</td>\n",
       "      <td>52</td>\n",
       "      <td>0</td>\n",
       "      <td>0</td>\n",
       "      <td>4</td>\n",
       "      <td>1</td>\n",
       "      <td>1</td>\n",
       "    </tr>\n",
       "    <tr>\n",
       "      <th>50741</th>\n",
       "      <td>40</td>\n",
       "      <td>0</td>\n",
       "      <td>0</td>\n",
       "      <td>11</td>\n",
       "      <td>60000</td>\n",
       "      <td>40</td>\n",
       "      <td>52</td>\n",
       "      <td>0</td>\n",
       "      <td>0</td>\n",
       "      <td>4</td>\n",
       "      <td>9</td>\n",
       "      <td>1</td>\n",
       "    </tr>\n",
       "  </tbody>\n",
       "</table>\n",
       "<p>50742 rows × 12 columns</p>\n",
       "</div>"
      ],
      "text/plain": [
       "       age  female  hisp  education  earnings  hours  week  union  uncov  \\\n",
       "0       52       0     0         12    146000     45    52      0      0   \n",
       "1       38       0     0         18     50000     45    52      0      0   \n",
       "2       38       0     0         14     32000     40    51      0      0   \n",
       "3       41       1     0         13     47000     40    52      0      0   \n",
       "4       42       0     0         13    161525     50    52      1      0   \n",
       "...    ...     ...   ...        ...       ...    ...   ...    ...    ...   \n",
       "50737   58       1     0         11     30000     40    52      0      0   \n",
       "50738   62       1     0         16     35000     40    52      0      0   \n",
       "50739   58       0     0         12     75000     50    52      0      0   \n",
       "50740   45       1     0         12     40000     60    52      0      0   \n",
       "50741   40       0     0         11     60000     40    52      0      0   \n",
       "\n",
       "       region  race  marital  \n",
       "0           1     1        1  \n",
       "1           1     1        1  \n",
       "2           1     1        1  \n",
       "3           1     1        1  \n",
       "4           1     1        1  \n",
       "...       ...   ...      ...  \n",
       "50737       4     4        6  \n",
       "50738       4     4        6  \n",
       "50739       4     1        1  \n",
       "50740       4     1        1  \n",
       "50741       4     9        1  \n",
       "\n",
       "[50742 rows x 12 columns]"
      ]
     },
     "execution_count": 4,
     "metadata": {},
     "output_type": "execute_result"
    }
   ],
   "source": [
    "df"
   ]
  },
  {
   "cell_type": "code",
   "execution_count": 5,
   "id": "military-intake",
   "metadata": {},
   "outputs": [],
   "source": [
    "wage = df[\"earnings\"] / (df[\"hours\"]*df[\"week\"])\n",
    "education = df[\"education\"]\n",
    "experience = df[\"age\"] - df[\"education\"] - 6\n",
    "exp_squared = experience*experience / 100\n",
    "all_Y = wage.apply(np.log)\n",
    "all_X = pd.DataFrame({\"education\": education, \"experience\": experience, \"exp_squared\": exp_squared, \"constant\":[1]*len(wage)})"
   ]
  },
  {
   "cell_type": "code",
   "execution_count": 6,
   "id": "economic-rachel",
   "metadata": {},
   "outputs": [
    {
     "data": {
      "text/html": [
       "<div>\n",
       "<style scoped>\n",
       "    .dataframe tbody tr th:only-of-type {\n",
       "        vertical-align: middle;\n",
       "    }\n",
       "\n",
       "    .dataframe tbody tr th {\n",
       "        vertical-align: top;\n",
       "    }\n",
       "\n",
       "    .dataframe thead th {\n",
       "        text-align: right;\n",
       "    }\n",
       "</style>\n",
       "<table border=\"1\" class=\"dataframe\">\n",
       "  <thead>\n",
       "    <tr style=\"text-align: right;\">\n",
       "      <th></th>\n",
       "      <th>education</th>\n",
       "      <th>experience</th>\n",
       "      <th>exp_squared</th>\n",
       "      <th>constant</th>\n",
       "    </tr>\n",
       "  </thead>\n",
       "  <tbody>\n",
       "    <tr>\n",
       "      <th>112</th>\n",
       "      <td>9</td>\n",
       "      <td>38</td>\n",
       "      <td>14.44</td>\n",
       "      <td>1</td>\n",
       "    </tr>\n",
       "    <tr>\n",
       "      <th>267</th>\n",
       "      <td>13</td>\n",
       "      <td>2</td>\n",
       "      <td>0.04</td>\n",
       "      <td>1</td>\n",
       "    </tr>\n",
       "    <tr>\n",
       "      <th>271</th>\n",
       "      <td>20</td>\n",
       "      <td>14</td>\n",
       "      <td>1.96</td>\n",
       "      <td>1</td>\n",
       "    </tr>\n",
       "    <tr>\n",
       "      <th>460</th>\n",
       "      <td>12</td>\n",
       "      <td>9</td>\n",
       "      <td>0.81</td>\n",
       "      <td>1</td>\n",
       "    </tr>\n",
       "    <tr>\n",
       "      <th>461</th>\n",
       "      <td>12</td>\n",
       "      <td>37</td>\n",
       "      <td>13.69</td>\n",
       "      <td>1</td>\n",
       "    </tr>\n",
       "    <tr>\n",
       "      <th>...</th>\n",
       "      <td>...</td>\n",
       "      <td>...</td>\n",
       "      <td>...</td>\n",
       "      <td>...</td>\n",
       "    </tr>\n",
       "    <tr>\n",
       "      <th>50635</th>\n",
       "      <td>14</td>\n",
       "      <td>23</td>\n",
       "      <td>5.29</td>\n",
       "      <td>1</td>\n",
       "    </tr>\n",
       "    <tr>\n",
       "      <th>50643</th>\n",
       "      <td>13</td>\n",
       "      <td>39</td>\n",
       "      <td>15.21</td>\n",
       "      <td>1</td>\n",
       "    </tr>\n",
       "    <tr>\n",
       "      <th>50659</th>\n",
       "      <td>6</td>\n",
       "      <td>23</td>\n",
       "      <td>5.29</td>\n",
       "      <td>1</td>\n",
       "    </tr>\n",
       "    <tr>\n",
       "      <th>50670</th>\n",
       "      <td>6</td>\n",
       "      <td>21</td>\n",
       "      <td>4.41</td>\n",
       "      <td>1</td>\n",
       "    </tr>\n",
       "    <tr>\n",
       "      <th>50703</th>\n",
       "      <td>12</td>\n",
       "      <td>33</td>\n",
       "      <td>10.89</td>\n",
       "      <td>1</td>\n",
       "    </tr>\n",
       "  </tbody>\n",
       "</table>\n",
       "<p>4230 rows × 4 columns</p>\n",
       "</div>"
      ],
      "text/plain": [
       "       education  experience  exp_squared  constant\n",
       "112            9          38        14.44         1\n",
       "267           13           2         0.04         1\n",
       "271           20          14         1.96         1\n",
       "460           12           9         0.81         1\n",
       "461           12          37        13.69         1\n",
       "...          ...         ...          ...       ...\n",
       "50635         14          23         5.29         1\n",
       "50643         13          39        15.21         1\n",
       "50659          6          23         5.29         1\n",
       "50670          6          21         4.41         1\n",
       "50703         12          33        10.89         1\n",
       "\n",
       "[4230 rows x 4 columns]"
      ]
     },
     "execution_count": 6,
     "metadata": {},
     "output_type": "execute_result"
    }
   ],
   "source": [
    "'''Filter out subsample of white male hispanics'''\n",
    "sample_filter = (df[\"race\"] == 1) & (df[\"female\"] == 0) & (df[\"hisp\"] == 1) \n",
    "Y = all_Y[sample_filter]\n",
    "X = all_X[sample_filter]\n",
    "X"
   ]
  },
  {
   "cell_type": "code",
   "execution_count": 7,
   "id": "eastern-newark",
   "metadata": {},
   "outputs": [],
   "source": [
    "ols_model = OLS(Y.values, X.values, hasconst=True)"
   ]
  },
  {
   "cell_type": "code",
   "execution_count": 8,
   "id": "referenced-monaco",
   "metadata": {},
   "outputs": [],
   "source": [
    "results = ols_model.fit(cov_type='HC0')"
   ]
  },
  {
   "cell_type": "code",
   "execution_count": 9,
   "id": "proof-manual",
   "metadata": {},
   "outputs": [
    {
     "data": {
      "text/html": [
       "<table class=\"simpletable\">\n",
       "<caption>OLS Regression Results</caption>\n",
       "<tr>\n",
       "  <th>Dep. Variable:</th>        <td>log_wage</td>     <th>  R-squared:         </th> <td>   0.233</td> \n",
       "</tr>\n",
       "<tr>\n",
       "  <th>Model:</th>                   <td>OLS</td>       <th>  Adj. R-squared:    </th> <td>   0.233</td> \n",
       "</tr>\n",
       "<tr>\n",
       "  <th>Method:</th>             <td>Least Squares</td>  <th>  F-statistic:       </th> <td>   372.7</td> \n",
       "</tr>\n",
       "<tr>\n",
       "  <th>Date:</th>             <td>Tue, 16 Mar 2021</td> <th>  Prob (F-statistic):</th> <td>8.79e-215</td>\n",
       "</tr>\n",
       "<tr>\n",
       "  <th>Time:</th>                 <td>13:29:54</td>     <th>  Log-Likelihood:    </th> <td> -3651.2</td> \n",
       "</tr>\n",
       "<tr>\n",
       "  <th>No. Observations:</th>      <td>  4230</td>      <th>  AIC:               </th> <td>   7310.</td> \n",
       "</tr>\n",
       "<tr>\n",
       "  <th>Df Residuals:</th>          <td>  4226</td>      <th>  BIC:               </th> <td>   7336.</td> \n",
       "</tr>\n",
       "<tr>\n",
       "  <th>Df Model:</th>              <td>     3</td>      <th>                     </th>     <td> </td>    \n",
       "</tr>\n",
       "<tr>\n",
       "  <th>Covariance Type:</th>         <td>HC0</td>       <th>                     </th>     <td> </td>    \n",
       "</tr>\n",
       "</table>\n",
       "<table class=\"simpletable\">\n",
       "<tr>\n",
       "       <td></td>          <th>coef</th>     <th>std err</th>      <th>z</th>      <th>P>|z|</th>  <th>[0.025</th>    <th>0.975]</th>  \n",
       "</tr>\n",
       "<tr>\n",
       "  <th>education</th>   <td>    0.0904</td> <td>    0.003</td> <td>   31.028</td> <td> 0.000</td> <td>    0.085</td> <td>    0.096</td>\n",
       "</tr>\n",
       "<tr>\n",
       "  <th>experience</th>  <td>    0.0354</td> <td>    0.003</td> <td>   13.691</td> <td> 0.000</td> <td>    0.030</td> <td>    0.040</td>\n",
       "</tr>\n",
       "<tr>\n",
       "  <th>exp_squared</th> <td>   -0.0465</td> <td>    0.005</td> <td>   -8.767</td> <td> 0.000</td> <td>   -0.057</td> <td>   -0.036</td>\n",
       "</tr>\n",
       "<tr>\n",
       "  <th>constant</th>    <td>    1.1852</td> <td>    0.046</td> <td>   25.722</td> <td> 0.000</td> <td>    1.095</td> <td>    1.276</td>\n",
       "</tr>\n",
       "</table>\n",
       "<table class=\"simpletable\">\n",
       "<tr>\n",
       "  <th>Omnibus:</th>       <td>1562.688</td> <th>  Durbin-Watson:     </th> <td>   1.770</td> \n",
       "</tr>\n",
       "<tr>\n",
       "  <th>Prob(Omnibus):</th>  <td> 0.000</td>  <th>  Jarque-Bera (JB):  </th> <td>34837.478</td>\n",
       "</tr>\n",
       "<tr>\n",
       "  <th>Skew:</th>           <td>-1.229</td>  <th>  Prob(JB):          </th> <td>    0.00</td> \n",
       "</tr>\n",
       "<tr>\n",
       "  <th>Kurtosis:</th>       <td>16.843</td>  <th>  Cond. No.          </th> <td>    140.</td> \n",
       "</tr>\n",
       "</table><br/><br/>Notes:<br/>[1] Standard Errors are heteroscedasticity robust (HC0)"
      ],
      "text/plain": [
       "<class 'statsmodels.iolib.summary.Summary'>\n",
       "\"\"\"\n",
       "                            OLS Regression Results                            \n",
       "==============================================================================\n",
       "Dep. Variable:               log_wage   R-squared:                       0.233\n",
       "Model:                            OLS   Adj. R-squared:                  0.233\n",
       "Method:                 Least Squares   F-statistic:                     372.7\n",
       "Date:                Tue, 16 Mar 2021   Prob (F-statistic):          8.79e-215\n",
       "Time:                        13:29:54   Log-Likelihood:                -3651.2\n",
       "No. Observations:                4230   AIC:                             7310.\n",
       "Df Residuals:                    4226   BIC:                             7336.\n",
       "Df Model:                           3                                         \n",
       "Covariance Type:                  HC0                                         \n",
       "===============================================================================\n",
       "                  coef    std err          z      P>|z|      [0.025      0.975]\n",
       "-------------------------------------------------------------------------------\n",
       "education       0.0904      0.003     31.028      0.000       0.085       0.096\n",
       "experience      0.0354      0.003     13.691      0.000       0.030       0.040\n",
       "exp_squared    -0.0465      0.005     -8.767      0.000      -0.057      -0.036\n",
       "constant        1.1852      0.046     25.722      0.000       1.095       1.276\n",
       "==============================================================================\n",
       "Omnibus:                     1562.688   Durbin-Watson:                   1.770\n",
       "Prob(Omnibus):                  0.000   Jarque-Bera (JB):            34837.478\n",
       "Skew:                          -1.229   Prob(JB):                         0.00\n",
       "Kurtosis:                      16.843   Cond. No.                         140.\n",
       "==============================================================================\n",
       "\n",
       "Notes:\n",
       "[1] Standard Errors are heteroscedasticity robust (HC0)\n",
       "\"\"\""
      ]
     },
     "execution_count": 9,
     "metadata": {},
     "output_type": "execute_result"
    }
   ],
   "source": [
    "results.summary(\"log_wage\",[\"education\",\"experience\",\"exp_squared\",\"constant\"])"
   ]
  },
  {
   "cell_type": "code",
   "execution_count": 10,
   "id": "alpine-simpson",
   "metadata": {},
   "outputs": [],
   "source": [
    "V_beta = results.cov_HC0\n",
    "n = len(X)"
   ]
  },
  {
   "cell_type": "code",
   "execution_count": 11,
   "id": "modern-conflict",
   "metadata": {},
   "outputs": [
    {
     "data": {
      "text/plain": [
       "3.4683354206976524"
      ]
     },
     "execution_count": 11,
     "metadata": {},
     "output_type": "execute_result"
    }
   ],
   "source": [
    "theta = results.params[0] / (results.params[1] + results.params[2]/5)\n",
    "theta"
   ]
  },
  {
   "cell_type": "code",
   "execution_count": 12,
   "id": "attended-monaco",
   "metadata": {},
   "outputs": [],
   "source": [
    "G = [1/(results.params[1] + results.params[2]/5), -1*results.params[0] / ((results.params[1] + results.params[2]/5)**2), -1*(results.params[0]/5) / ((results.params[1] + results.params[2]/5)**2), 0]"
   ]
  },
  {
   "cell_type": "code",
   "execution_count": 13,
   "id": "demographic-opera",
   "metadata": {},
   "outputs": [
    {
     "data": {
      "text/plain": [
       "0.22673412999594114"
      ]
     },
     "execution_count": 13,
     "metadata": {},
     "output_type": "execute_result"
    }
   ],
   "source": [
    "theta_error = np.sqrt(np.matmul(np.matmul(G, V_beta), np.array(G).transpose()))\n",
    "theta_error"
   ]
  },
  {
   "cell_type": "code",
   "execution_count": 14,
   "id": "employed-accuracy",
   "metadata": {},
   "outputs": [
    {
     "data": {
      "text/plain": [
       "[3.095390964620142, 3.841279876775163]"
      ]
     },
     "execution_count": 14,
     "metadata": {},
     "output_type": "execute_result"
    }
   ],
   "source": [
    "[theta - theta_error*st.norm.ppf(.95), theta + theta_error*st.norm.ppf(.95)]"
   ]
  },
  {
   "cell_type": "code",
   "execution_count": 15,
   "id": "comfortable-voltage",
   "metadata": {},
   "outputs": [
    {
     "data": {
      "text/plain": [
       "(2.7921668432176703, 0.011667088241661091)"
      ]
     },
     "execution_count": 15,
     "metadata": {},
     "output_type": "execute_result"
    }
   ],
   "source": [
    "H = [12, 20, 4, 1]\n",
    "est = np.matmul(H, results.params)\n",
    "est_error = np.sqrt(np.matmul(np.matmul(H, V_beta), np.array(H).transpose()))\n",
    "est, est_error"
   ]
  },
  {
   "cell_type": "code",
   "execution_count": 16,
   "id": "joint-controversy",
   "metadata": {},
   "outputs": [
    {
     "data": {
      "text/plain": [
       "[2.769299770459564, 2.8150339159757767]"
      ]
     },
     "execution_count": 16,
     "metadata": {},
     "output_type": "execute_result"
    }
   ],
   "source": [
    "[ est - est_error*st.norm.ppf(.975), est + est_error*st.norm.ppf(.975) ]"
   ]
  },
  {
   "cell_type": "code",
   "execution_count": null,
   "id": "patient-refund",
   "metadata": {},
   "outputs": [],
   "source": []
  }
 ],
 "metadata": {
  "kernelspec": {
   "display_name": "Python 3",
   "language": "python",
   "name": "python3"
  },
  "language_info": {
   "codemirror_mode": {
    "name": "ipython",
    "version": 3
   },
   "file_extension": ".py",
   "mimetype": "text/x-python",
   "name": "python",
   "nbconvert_exporter": "python",
   "pygments_lexer": "ipython3",
   "version": "3.9.0"
  }
 },
 "nbformat": 4,
 "nbformat_minor": 5
}
