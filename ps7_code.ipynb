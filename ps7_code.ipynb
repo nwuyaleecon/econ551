{
 "cells": [
  {
   "cell_type": "code",
   "execution_count": 1,
   "id": "maritime-capability",
   "metadata": {},
   "outputs": [],
   "source": [
    "import pandas as pd\n",
    "from statsmodels.regression.linear_model import OLS\n",
    "from linearmodels import IV2SLS, IVGMM\n",
    "import numpy as np\n",
    "import scipy.stats as st"
   ]
  },
  {
   "cell_type": "code",
   "execution_count": 2,
   "id": "invisible-awareness",
   "metadata": {},
   "outputs": [],
   "source": [
    "treated_df = pd.read_csv(\"ps7data_treated.csv\", sep=\"  \", names=[\"treated\", \"age\", \"education\", \"black\", \"hispanic\",\"married\",\"nodegree\",\"re75\",\"re78\"], engine=\"python\")\n",
    "control_df = pd.read_csv(\"ps7data_control.csv\", sep=\"  \", names=[\"treated\", \"age\", \"education\", \"black\", \"hispanic\",\"married\",\"nodegree\",\"re75\",\"re78\"], engine=\"python\")"
   ]
  },
  {
   "cell_type": "code",
   "execution_count": 3,
   "id": "loved-poker",
   "metadata": {},
   "outputs": [
    {
     "data": {
      "text/html": [
       "<div>\n",
       "<style scoped>\n",
       "    .dataframe tbody tr th:only-of-type {\n",
       "        vertical-align: middle;\n",
       "    }\n",
       "\n",
       "    .dataframe tbody tr th {\n",
       "        vertical-align: top;\n",
       "    }\n",
       "\n",
       "    .dataframe thead th {\n",
       "        text-align: right;\n",
       "    }\n",
       "</style>\n",
       "<table border=\"1\" class=\"dataframe\">\n",
       "  <thead>\n",
       "    <tr style=\"text-align: right;\">\n",
       "      <th></th>\n",
       "      <th>treated</th>\n",
       "      <th>age</th>\n",
       "      <th>education</th>\n",
       "      <th>black</th>\n",
       "      <th>hispanic</th>\n",
       "      <th>married</th>\n",
       "      <th>nodegree</th>\n",
       "      <th>re75</th>\n",
       "      <th>re78</th>\n",
       "      <th>constant</th>\n",
       "    </tr>\n",
       "  </thead>\n",
       "  <tbody>\n",
       "    <tr>\n",
       "      <th>0</th>\n",
       "      <td>0.0</td>\n",
       "      <td>23.0</td>\n",
       "      <td>10.0</td>\n",
       "      <td>1.0</td>\n",
       "      <td>0.0</td>\n",
       "      <td>0.0</td>\n",
       "      <td>1.0</td>\n",
       "      <td>0.000</td>\n",
       "      <td>0.000</td>\n",
       "      <td>1</td>\n",
       "    </tr>\n",
       "    <tr>\n",
       "      <th>1</th>\n",
       "      <td>0.0</td>\n",
       "      <td>26.0</td>\n",
       "      <td>12.0</td>\n",
       "      <td>0.0</td>\n",
       "      <td>0.0</td>\n",
       "      <td>0.0</td>\n",
       "      <td>0.0</td>\n",
       "      <td>0.000</td>\n",
       "      <td>12383.680</td>\n",
       "      <td>1</td>\n",
       "    </tr>\n",
       "    <tr>\n",
       "      <th>2</th>\n",
       "      <td>0.0</td>\n",
       "      <td>22.0</td>\n",
       "      <td>9.0</td>\n",
       "      <td>1.0</td>\n",
       "      <td>0.0</td>\n",
       "      <td>0.0</td>\n",
       "      <td>1.0</td>\n",
       "      <td>0.000</td>\n",
       "      <td>0.000</td>\n",
       "      <td>1</td>\n",
       "    </tr>\n",
       "    <tr>\n",
       "      <th>3</th>\n",
       "      <td>0.0</td>\n",
       "      <td>34.0</td>\n",
       "      <td>9.0</td>\n",
       "      <td>1.0</td>\n",
       "      <td>0.0</td>\n",
       "      <td>0.0</td>\n",
       "      <td>1.0</td>\n",
       "      <td>4368.413</td>\n",
       "      <td>14051.160</td>\n",
       "      <td>1</td>\n",
       "    </tr>\n",
       "    <tr>\n",
       "      <th>4</th>\n",
       "      <td>0.0</td>\n",
       "      <td>18.0</td>\n",
       "      <td>9.0</td>\n",
       "      <td>1.0</td>\n",
       "      <td>0.0</td>\n",
       "      <td>0.0</td>\n",
       "      <td>1.0</td>\n",
       "      <td>0.000</td>\n",
       "      <td>10740.080</td>\n",
       "      <td>1</td>\n",
       "    </tr>\n",
       "    <tr>\n",
       "      <th>...</th>\n",
       "      <td>...</td>\n",
       "      <td>...</td>\n",
       "      <td>...</td>\n",
       "      <td>...</td>\n",
       "      <td>...</td>\n",
       "      <td>...</td>\n",
       "      <td>...</td>\n",
       "      <td>...</td>\n",
       "      <td>...</td>\n",
       "      <td>...</td>\n",
       "    </tr>\n",
       "    <tr>\n",
       "      <th>292</th>\n",
       "      <td>1.0</td>\n",
       "      <td>20.0</td>\n",
       "      <td>9.0</td>\n",
       "      <td>1.0</td>\n",
       "      <td>0.0</td>\n",
       "      <td>0.0</td>\n",
       "      <td>1.0</td>\n",
       "      <td>0.000</td>\n",
       "      <td>8881.665</td>\n",
       "      <td>1</td>\n",
       "    </tr>\n",
       "    <tr>\n",
       "      <th>293</th>\n",
       "      <td>1.0</td>\n",
       "      <td>31.0</td>\n",
       "      <td>4.0</td>\n",
       "      <td>1.0</td>\n",
       "      <td>0.0</td>\n",
       "      <td>0.0</td>\n",
       "      <td>1.0</td>\n",
       "      <td>4023.211</td>\n",
       "      <td>7382.549</td>\n",
       "      <td>1</td>\n",
       "    </tr>\n",
       "    <tr>\n",
       "      <th>294</th>\n",
       "      <td>1.0</td>\n",
       "      <td>24.0</td>\n",
       "      <td>10.0</td>\n",
       "      <td>1.0</td>\n",
       "      <td>0.0</td>\n",
       "      <td>1.0</td>\n",
       "      <td>1.0</td>\n",
       "      <td>4078.152</td>\n",
       "      <td>0.000</td>\n",
       "      <td>1</td>\n",
       "    </tr>\n",
       "    <tr>\n",
       "      <th>295</th>\n",
       "      <td>1.0</td>\n",
       "      <td>33.0</td>\n",
       "      <td>11.0</td>\n",
       "      <td>1.0</td>\n",
       "      <td>0.0</td>\n",
       "      <td>1.0</td>\n",
       "      <td>1.0</td>\n",
       "      <td>25142.240</td>\n",
       "      <td>4181.942</td>\n",
       "      <td>1</td>\n",
       "    </tr>\n",
       "    <tr>\n",
       "      <th>296</th>\n",
       "      <td>1.0</td>\n",
       "      <td>33.0</td>\n",
       "      <td>12.0</td>\n",
       "      <td>1.0</td>\n",
       "      <td>0.0</td>\n",
       "      <td>1.0</td>\n",
       "      <td>0.0</td>\n",
       "      <td>10941.350</td>\n",
       "      <td>15952.600</td>\n",
       "      <td>1</td>\n",
       "    </tr>\n",
       "  </tbody>\n",
       "</table>\n",
       "<p>722 rows × 10 columns</p>\n",
       "</div>"
      ],
      "text/plain": [
       "     treated   age  education  black  hispanic  married  nodegree       re75  \\\n",
       "0        0.0  23.0       10.0    1.0       0.0      0.0       1.0      0.000   \n",
       "1        0.0  26.0       12.0    0.0       0.0      0.0       0.0      0.000   \n",
       "2        0.0  22.0        9.0    1.0       0.0      0.0       1.0      0.000   \n",
       "3        0.0  34.0        9.0    1.0       0.0      0.0       1.0   4368.413   \n",
       "4        0.0  18.0        9.0    1.0       0.0      0.0       1.0      0.000   \n",
       "..       ...   ...        ...    ...       ...      ...       ...        ...   \n",
       "292      1.0  20.0        9.0    1.0       0.0      0.0       1.0      0.000   \n",
       "293      1.0  31.0        4.0    1.0       0.0      0.0       1.0   4023.211   \n",
       "294      1.0  24.0       10.0    1.0       0.0      1.0       1.0   4078.152   \n",
       "295      1.0  33.0       11.0    1.0       0.0      1.0       1.0  25142.240   \n",
       "296      1.0  33.0       12.0    1.0       0.0      1.0       0.0  10941.350   \n",
       "\n",
       "          re78  constant  \n",
       "0        0.000         1  \n",
       "1    12383.680         1  \n",
       "2        0.000         1  \n",
       "3    14051.160         1  \n",
       "4    10740.080         1  \n",
       "..         ...       ...  \n",
       "292   8881.665         1  \n",
       "293   7382.549         1  \n",
       "294      0.000         1  \n",
       "295   4181.942         1  \n",
       "296  15952.600         1  \n",
       "\n",
       "[722 rows x 10 columns]"
      ]
     },
     "execution_count": 3,
     "metadata": {},
     "output_type": "execute_result"
    }
   ],
   "source": [
    "df = control_df.append(treated_df)\n",
    "df[\"constant\"] = 1\n",
    "df"
   ]
  },
  {
   "cell_type": "markdown",
   "id": "lonely-picking",
   "metadata": {},
   "source": [
    "Part b"
   ]
  },
  {
   "cell_type": "code",
   "execution_count": 4,
   "id": "acquired-payday",
   "metadata": {},
   "outputs": [
    {
     "data": {
      "text/html": [
       "<table class=\"simpletable\">\n",
       "<caption>OLS Regression Results</caption>\n",
       "<tr>\n",
       "  <th>Dep. Variable:</th>          <td>re78</td>       <th>  R-squared:         </th> <td>   0.005</td> \n",
       "</tr>\n",
       "<tr>\n",
       "  <th>Model:</th>                   <td>OLS</td>       <th>  Adj. R-squared:    </th> <td>   0.003</td> \n",
       "</tr>\n",
       "<tr>\n",
       "  <th>Method:</th>             <td>Least Squares</td>  <th>  F-statistic:       </th> <td>   3.525</td> \n",
       "</tr>\n",
       "<tr>\n",
       "  <th>Date:</th>             <td>Mon, 12 Apr 2021</td> <th>  Prob (F-statistic):</th>  <td>0.0609</td>  \n",
       "</tr>\n",
       "<tr>\n",
       "  <th>Time:</th>                 <td>16:47:58</td>     <th>  Log-Likelihood:    </th> <td> -7333.1</td> \n",
       "</tr>\n",
       "<tr>\n",
       "  <th>No. Observations:</th>      <td>   722</td>      <th>  AIC:               </th> <td>1.467e+04</td>\n",
       "</tr>\n",
       "<tr>\n",
       "  <th>Df Residuals:</th>          <td>   720</td>      <th>  BIC:               </th> <td>1.468e+04</td>\n",
       "</tr>\n",
       "<tr>\n",
       "  <th>Df Model:</th>              <td>     1</td>      <th>                     </th>     <td> </td>    \n",
       "</tr>\n",
       "<tr>\n",
       "  <th>Covariance Type:</th>      <td>nonrobust</td>    <th>                     </th>     <td> </td>    \n",
       "</tr>\n",
       "</table>\n",
       "<table class=\"simpletable\">\n",
       "<tr>\n",
       "      <td></td>        <th>coef</th>     <th>std err</th>      <th>t</th>      <th>P>|t|</th>  <th>[0.025</th>    <th>0.975]</th>  \n",
       "</tr>\n",
       "<tr>\n",
       "  <th>treated</th>  <td>  886.3037</td> <td>  472.086</td> <td>    1.877</td> <td> 0.061</td> <td>  -40.526</td> <td> 1813.134</td>\n",
       "</tr>\n",
       "<tr>\n",
       "  <th>constant</th> <td> 5090.0483</td> <td>  302.783</td> <td>   16.811</td> <td> 0.000</td> <td> 4495.606</td> <td> 5684.491</td>\n",
       "</tr>\n",
       "</table>\n",
       "<table class=\"simpletable\">\n",
       "<tr>\n",
       "  <th>Omnibus:</th>       <td>384.449</td> <th>  Durbin-Watson:     </th> <td>   1.982</td>\n",
       "</tr>\n",
       "<tr>\n",
       "  <th>Prob(Omnibus):</th> <td> 0.000</td>  <th>  Jarque-Bera (JB):  </th> <td>3767.287</td>\n",
       "</tr>\n",
       "<tr>\n",
       "  <th>Skew:</th>          <td> 2.195</td>  <th>  Prob(JB):          </th> <td>    0.00</td>\n",
       "</tr>\n",
       "<tr>\n",
       "  <th>Kurtosis:</th>      <td>13.294</td>  <th>  Cond. No.          </th> <td>    2.46</td>\n",
       "</tr>\n",
       "</table><br/><br/>Notes:<br/>[1] Standard Errors assume that the covariance matrix of the errors is correctly specified."
      ],
      "text/plain": [
       "<class 'statsmodels.iolib.summary.Summary'>\n",
       "\"\"\"\n",
       "                            OLS Regression Results                            \n",
       "==============================================================================\n",
       "Dep. Variable:                   re78   R-squared:                       0.005\n",
       "Model:                            OLS   Adj. R-squared:                  0.003\n",
       "Method:                 Least Squares   F-statistic:                     3.525\n",
       "Date:                Mon, 12 Apr 2021   Prob (F-statistic):             0.0609\n",
       "Time:                        16:47:58   Log-Likelihood:                -7333.1\n",
       "No. Observations:                 722   AIC:                         1.467e+04\n",
       "Df Residuals:                     720   BIC:                         1.468e+04\n",
       "Df Model:                           1                                         \n",
       "Covariance Type:            nonrobust                                         \n",
       "==============================================================================\n",
       "                 coef    std err          t      P>|t|      [0.025      0.975]\n",
       "------------------------------------------------------------------------------\n",
       "treated      886.3037    472.086      1.877      0.061     -40.526    1813.134\n",
       "constant    5090.0483    302.783     16.811      0.000    4495.606    5684.491\n",
       "==============================================================================\n",
       "Omnibus:                      384.449   Durbin-Watson:                   1.982\n",
       "Prob(Omnibus):                  0.000   Jarque-Bera (JB):             3767.287\n",
       "Skew:                           2.195   Prob(JB):                         0.00\n",
       "Kurtosis:                      13.294   Cond. No.                         2.46\n",
       "==============================================================================\n",
       "\n",
       "Notes:\n",
       "[1] Standard Errors assume that the covariance matrix of the errors is correctly specified.\n",
       "\"\"\""
      ]
     },
     "execution_count": 4,
     "metadata": {},
     "output_type": "execute_result"
    }
   ],
   "source": [
    "Y = df[\"re78\"]\n",
    "X = df[[\"treated\",\"constant\"]] \n",
    "\n",
    "ols_model = OLS(Y, X, hasconst=True)\n",
    "results = ols_model.fit()\n",
    "results.summary()"
   ]
  },
  {
   "cell_type": "markdown",
   "id": "consistent-officer",
   "metadata": {},
   "source": [
    "Part c"
   ]
  },
  {
   "cell_type": "code",
   "execution_count": 5,
   "id": "genuine-majority",
   "metadata": {},
   "outputs": [],
   "source": [
    "tau_init = results.params[\"treated\"]\n",
    "alpha_init = results.params[\"constant\"]\n",
    "T = df[\"treated\"]\n",
    "X = df[[\"age\", \"education\", \"black\", \"hispanic\",\"married\",\"nodegree\",\"re75\"]] \n",
    "N = len(X)\n",
    "mu_init = X.mean()"
   ]
  },
  {
   "cell_type": "code",
   "execution_count": 6,
   "id": "associate-aaron",
   "metadata": {},
   "outputs": [
    {
     "data": {
      "text/plain": [
       "(722, 16)"
      ]
     },
     "execution_count": 6,
     "metadata": {},
     "output_type": "execute_result"
    }
   ],
   "source": [
    "g = np.concatenate([np.stack([Y - alpha_init - tau_init*T, (Y - alpha_init - tau_init*T)*T]),(X-mu_init).transpose(),((X-mu_init).values*np.expand_dims(T.values, axis=1)).transpose()],axis=0).transpose()\n",
    "g.shape"
   ]
  },
  {
   "cell_type": "code",
   "execution_count": 7,
   "id": "hybrid-causing",
   "metadata": {},
   "outputs": [],
   "source": [
    "# compute weights\n",
    "omega = np.matmul(g.transpose(), g) / N\n",
    "weights = np.linalg.inv(omega)"
   ]
  },
  {
   "cell_type": "code",
   "execution_count": 8,
   "id": "hybrid-cancellation",
   "metadata": {},
   "outputs": [],
   "source": [
    "# we now construct the Jacobian\n",
    "\n",
    "G = np.zeros([2*len(mu_init) + 2,2+len(mu_init)])\n",
    "G[0,0] = 1\n",
    "G[0,1] = T.mean()\n",
    "G[1,0] = T.mean()\n",
    "G[1,1] = (T*T).mean()\n",
    "for i in range(2,len(mu_init) + 2):\n",
    "    G[i,i]=1\n",
    "    G[i+len(mu_init),i] = T.mean()"
   ]
  },
  {
   "cell_type": "code",
   "execution_count": 9,
   "id": "accompanied-venture",
   "metadata": {},
   "outputs": [],
   "source": [
    "vector = np.concatenate([np.array([Y.mean(), (Y*T).mean()]), X.mean().values, (X.values*np.expand_dims(T.values,axis=1)).mean(axis=0)])"
   ]
  },
  {
   "cell_type": "code",
   "execution_count": 10,
   "id": "premium-string",
   "metadata": {},
   "outputs": [],
   "source": [
    "theta_hat = np.matmul(np.linalg.inv(np.matmul(np.matmul(G.transpose(), weights), G)), np.matmul(np.matmul(G.transpose(), weights),vector))"
   ]
  },
  {
   "cell_type": "code",
   "execution_count": 11,
   "id": "desperate-palace",
   "metadata": {},
   "outputs": [
    {
     "data": {
      "text/plain": [
       "794.3885736971342"
      ]
     },
     "execution_count": 11,
     "metadata": {},
     "output_type": "execute_result"
    }
   ],
   "source": [
    "# estimated tau:\n",
    "theta_hat[1]"
   ]
  },
  {
   "cell_type": "code",
   "execution_count": 12,
   "id": "framed-retrieval",
   "metadata": {},
   "outputs": [],
   "source": [
    "covariance = np.linalg.inv(np.matmul(np.matmul(G.transpose(), np.linalg.inv(omega)), G))"
   ]
  },
  {
   "cell_type": "code",
   "execution_count": 13,
   "id": "innovative-portrait",
   "metadata": {},
   "outputs": [
    {
     "data": {
      "text/plain": [
       "480.3028362343343"
      ]
     },
     "execution_count": 13,
     "metadata": {},
     "output_type": "execute_result"
    }
   ],
   "source": [
    "# error\n",
    "std_error = np.sqrt(covariance[1,1]/N)\n",
    "std_error"
   ]
  },
  {
   "cell_type": "code",
   "execution_count": null,
   "id": "available-physiology",
   "metadata": {},
   "outputs": [],
   "source": []
  },
  {
   "cell_type": "code",
   "execution_count": null,
   "id": "offensive-haven",
   "metadata": {},
   "outputs": [],
   "source": []
  }
 ],
 "metadata": {
  "kernelspec": {
   "display_name": "Python 3",
   "language": "python",
   "name": "python3"
  },
  "language_info": {
   "codemirror_mode": {
    "name": "ipython",
    "version": 3
   },
   "file_extension": ".py",
   "mimetype": "text/x-python",
   "name": "python",
   "nbconvert_exporter": "python",
   "pygments_lexer": "ipython3",
   "version": "3.9.0"
  }
 },
 "nbformat": 4,
 "nbformat_minor": 5
}
